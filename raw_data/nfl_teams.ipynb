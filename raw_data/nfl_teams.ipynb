{
 "cells": [
  {
   "cell_type": "code",
   "execution_count": 1,
   "metadata": {},
   "outputs": [
    {
     "name": "stdout",
     "output_type": "stream",
     "text": [
      "Collecting nfl_data_py\n",
      "  Using cached nfl_data_py-0.3.0-py3-none-any.whl\n",
      "Collecting python-snappy>0.5\n",
      "  Using cached python_snappy-0.6.1-cp38-cp38-win_amd64.whl (101 kB)\n",
      "Collecting fastparquet>0.5\n",
      "  Downloading fastparquet-2023.2.0-cp38-cp38-win_amd64.whl (629 kB)\n",
      "     ---------------------------------------- 0.0/629.1 kB ? eta -:--:--\n",
      "     --------- ---------------------------- 153.6/629.1 kB 4.6 MB/s eta 0:00:01\n",
      "     -------------------------------------- 629.1/629.1 kB 7.9 MB/s eta 0:00:00\n",
      "Collecting pandas>1\n",
      "  Downloading pandas-2.0.0-cp38-cp38-win_amd64.whl (11.3 MB)\n",
      "     ---------------------------------------- 0.0/11.3 MB ? eta -:--:--\n",
      "     -- ------------------------------------- 0.7/11.3 MB 14.8 MB/s eta 0:00:01\n",
      "     ------ --------------------------------- 1.7/11.3 MB 22.2 MB/s eta 0:00:01\n",
      "     --------- ------------------------------ 2.8/11.3 MB 20.0 MB/s eta 0:00:01\n",
      "     ------------ --------------------------- 3.6/11.3 MB 21.1 MB/s eta 0:00:01\n",
      "     ------------------ --------------------- 5.2/11.3 MB 22.1 MB/s eta 0:00:01\n",
      "     ---------------------- ----------------- 6.3/11.3 MB 22.3 MB/s eta 0:00:01\n",
      "     ------------------------- -------------- 7.3/11.3 MB 22.2 MB/s eta 0:00:01\n",
      "     ------------------------------ --------- 8.7/11.3 MB 23.2 MB/s eta 0:00:01\n",
      "     ---------------------------------- ----- 9.7/11.3 MB 22.2 MB/s eta 0:00:01\n",
      "     ------------------------------------ -- 10.7/11.3 MB 22.5 MB/s eta 0:00:01\n",
      "     --------------------------------------  11.3/11.3 MB 22.6 MB/s eta 0:00:01\n",
      "     --------------------------------------- 11.3/11.3 MB 19.8 MB/s eta 0:00:00\n",
      "Collecting appdirs>1\n",
      "  Using cached appdirs-1.4.4-py2.py3-none-any.whl (9.6 kB)\n",
      "Requirement already satisfied: numpy>=1.20.3 in c:\\users\\wiltse family\\appdata\\roaming\\python\\python38\\site-packages (from fastparquet>0.5->nfl_data_py) (1.24.2)\n",
      "Requirement already satisfied: packaging in c:\\users\\wiltse family\\.conda\\envs\\base2\\lib\\site-packages (from fastparquet>0.5->nfl_data_py) (23.0)\n",
      "Collecting fsspec\n",
      "  Downloading fsspec-2023.3.0-py3-none-any.whl (145 kB)\n",
      "     ---------------------------------------- 0.0/145.4 kB ? eta -:--:--\n",
      "     ---------------------------------------- 145.4/145.4 kB ? eta 0:00:00\n",
      "Collecting cramjam>=2.3\n",
      "  Downloading cramjam-2.6.2-cp38-none-win_amd64.whl (1.2 MB)\n",
      "     ---------------------------------------- 0.0/1.2 MB ? eta -:--:--\n",
      "     ------------------------------------ --- 1.1/1.2 MB 36.0 MB/s eta 0:00:01\n",
      "     ---------------------------------------- 1.2/1.2 MB 20.0 MB/s eta 0:00:00\n",
      "Collecting tzdata>=2022.1\n",
      "  Downloading tzdata-2023.3-py2.py3-none-any.whl (341 kB)\n",
      "     ---------------------------------------- 0.0/341.8 kB ? eta -:--:--\n",
      "     ------------------------------------- 341.8/341.8 kB 22.1 MB/s eta 0:00:00\n",
      "Collecting pytz>=2020.1\n",
      "  Downloading pytz-2023.3-py2.py3-none-any.whl (502 kB)\n",
      "     ---------------------------------------- 0.0/502.3 kB ? eta -:--:--\n",
      "     ------------------------------------- 502.3/502.3 kB 30.8 MB/s eta 0:00:00\n",
      "Requirement already satisfied: python-dateutil>=2.8.2 in c:\\users\\wiltse family\\.conda\\envs\\base2\\lib\\site-packages (from pandas>1->nfl_data_py) (2.8.2)\n",
      "Requirement already satisfied: six>=1.5 in c:\\users\\wiltse family\\.conda\\envs\\base2\\lib\\site-packages (from python-dateutil>=2.8.2->pandas>1->nfl_data_py) (1.16.0)\n",
      "Installing collected packages: pytz, python-snappy, appdirs, tzdata, fsspec, cramjam, pandas, fastparquet, nfl_data_py\n",
      "Successfully installed appdirs-1.4.4 cramjam-2.6.2 fastparquet-2023.2.0 fsspec-2023.3.0 nfl_data_py-0.3.0 pandas-2.0.0 python-snappy-0.6.1 pytz-2023.3 tzdata-2023.3\n",
      "Note: you may need to restart the kernel to use updated packages.\n"
     ]
    },
    {
     "name": "stderr",
     "output_type": "stream",
     "text": [
      "ERROR: pip's dependency resolver does not currently take into account all the packages that are installed. This behaviour is the source of the following dependency conflicts.\n",
      "visions 0.6.0 requires attrs>=19.3.0, which is not installed.\n",
      "visions 0.6.0 requires networkx>=2.4, which is not installed.\n",
      "streamlit 0.76.0 requires click>=7.0, which is not installed.\n",
      "streamlit 0.76.0 requires pillow>=6.2.0, which is not installed.\n",
      "streamlit 0.76.0 requires requests, which is not installed.\n",
      "streamlit 0.76.0 requires toml, which is not installed.\n",
      "streamlit 0.76.0 requires watchdog; platform_system != \"Darwin\", which is not installed.\n",
      "pyod 0.8.6 requires joblib, which is not installed.\n",
      "pyod 0.8.6 requires matplotlib, which is not installed.\n",
      "pyod 0.8.6 requires numba>=0.35, which is not installed.\n",
      "pyod 0.8.6 requires statsmodels, which is not installed.\n",
      "pyldavis 2.1.2 requires future, which is not installed.\n",
      "pyldavis 2.1.2 requires jinja2>=2.7.2, which is not installed.\n",
      "pyldavis 2.1.2 requires joblib>=0.8.4, which is not installed.\n",
      "pyldavis 2.1.2 requires numexpr, which is not installed.\n",
      "pyldavis 2.1.2 requires pytest, which is not installed.\n",
      "pycaret 2.2.3 requires ipywidgets, which is not installed.\n",
      "pycaret 2.2.3 requires joblib, which is not installed.\n",
      "pycaret 2.2.3 requires matplotlib, which is not installed.\n",
      "pycaret 2.2.3 requires nltk, which is not installed.\n",
      "pycaret 2.2.3 requires seaborn, which is not installed.\n",
      "phik 0.11.0 requires joblib>=0.14.1, which is not installed.\n",
      "phik 0.11.0 requires matplotlib>=2.2.3, which is not installed.\n",
      "phik 0.11.0 requires numba>=0.38.1, which is not installed.\n",
      "pandas-profiling 2.10.0 requires attrs>=19.3.0, which is not installed.\n",
      "pandas-profiling 2.10.0 requires ipywidgets>=7.5.1, which is not installed.\n",
      "pandas-profiling 2.10.0 requires jinja2>=2.11.1, which is not installed.\n",
      "pandas-profiling 2.10.0 requires joblib, which is not installed.\n",
      "pandas-profiling 2.10.0 requires matplotlib>=3.2.0, which is not installed.\n",
      "pandas-profiling 2.10.0 requires requests>=2.24.0, which is not installed.\n",
      "pandas-profiling 2.10.0 requires seaborn>=0.10.1, which is not installed.\n",
      "mlxtend 0.18.0 requires joblib>=0.13.2, which is not installed.\n",
      "mlxtend 0.18.0 requires matplotlib>=3.0.0, which is not installed.\n",
      "mlflow 1.13.1 requires click>=7.0, which is not installed.\n",
      "mlflow 1.13.1 requires cloudpickle, which is not installed.\n",
      "mlflow 1.13.1 requires entrypoints, which is not installed.\n",
      "mlflow 1.13.1 requires Flask, which is not installed.\n",
      "mlflow 1.13.1 requires pyyaml, which is not installed.\n",
      "mlflow 1.13.1 requires requests>=2.17.3, which is not installed.\n",
      "mlflow 1.13.1 requires sqlalchemy, which is not installed.\n",
      "cufflinks 0.17.3 requires ipywidgets>=7.0.0, which is not installed.\n",
      "combo 0.1.2 requires joblib, which is not installed.\n",
      "combo 0.1.2 requires matplotlib, which is not installed.\n",
      "combo 0.1.2 requires numba>=0.35, which is not installed.\n",
      "catboost 0.24.4 requires matplotlib, which is not installed.\n",
      "altair 4.1.0 requires entrypoints, which is not installed.\n",
      "altair 4.1.0 requires jinja2, which is not installed.\n",
      "altair 4.1.0 requires jsonschema, which is not installed.\n",
      "altair 4.1.0 requires toolz, which is not installed.\n"
     ]
    }
   ],
   "source": [
    "pip install nfl_data_py"
   ]
  },
  {
   "cell_type": "code",
   "execution_count": 2,
   "metadata": {},
   "outputs": [
    {
     "name": "stdout",
     "output_type": "stream",
     "text": [
      "2022 done.\n",
      "Downcasting floats.\n"
     ]
    }
   ],
   "source": [
    "# import packages\n",
    "import pandas as pd\n",
    "import plotly.graph_objects as go\n",
    "import nfl_data_py as nfl\n",
    "# load data\n",
    "df_2022 = nfl.import_pbp_data([2022])\n",
    "df_players = nfl.import_rosters([2022])\n",
    "df_teams = nfl.import_team_desc()"
   ]
  },
  {
   "cell_type": "code",
   "execution_count": 4,
   "metadata": {},
   "outputs": [],
   "source": [
    "df_nfc = df_teams['team_conf']=='NFC'"
   ]
  },
  {
   "cell_type": "code",
   "execution_count": null,
   "metadata": {},
   "outputs": [],
   "source": [
    "df_nfc_filter =  df_teams[df_nfc]"
   ]
  },
  {
   "cell_type": "code",
   "execution_count": null,
   "metadata": {},
   "outputs": [],
   "source": [
    "df_nfc_filter.to_csv('nfl_teams_nfc.csv')"
   ]
  },
  {
   "cell_type": "code",
   "execution_count": null,
   "metadata": {},
   "outputs": [],
   "source": [
    "#df_nfc_filter.to_parquet('nfl_teams_nfc.parquet')\n"
   ]
  }
 ],
 "metadata": {
  "kernelspec": {
   "display_name": "base",
   "language": "python",
   "name": "python3"
  },
  "language_info": {
   "codemirror_mode": {
    "name": "ipython",
    "version": 3
   },
   "file_extension": ".py",
   "mimetype": "text/x-python",
   "name": "python",
   "nbconvert_exporter": "python",
   "pygments_lexer": "ipython3",
   "version": "3.8.16"
  },
  "orig_nbformat": 4,
  "vscode": {
   "interpreter": {
    "hash": "ad2bdc8ecc057115af97d19610ffacc2b4e99fae6737bb82f5d7fb13d2f2c186"
   }
  }
 },
 "nbformat": 4,
 "nbformat_minor": 2
}
