{
 "cells": [
  {
   "cell_type": "code",
   "execution_count": 1,
   "metadata": {},
   "outputs": [],
   "source": [
    "# import packages\n",
    "import pandas as pd\n",
    "import nfl_data_py as nfl"
   ]
  },
  {
   "cell_type": "code",
   "execution_count": 2,
   "metadata": {},
   "outputs": [
    {
     "name": "stdout",
     "output_type": "stream",
     "text": [
      "2022 done.\n",
      "Downcasting floats.\n"
     ]
    }
   ],
   "source": [
    "#Get play by play data for 2022 season\n",
    "df_pbp_2022 = nfl.import_pbp_data([2022])"
   ]
  },
  {
   "cell_type": "code",
   "execution_count": 4,
   "metadata": {},
   "outputs": [],
   "source": [
    "# Specify the path to the folder where you want to save the parquet files\n",
    "folder_path = 'C:/Users/Wiltse Family/Documents/databricks/dfl_raw_scripts_output/pbp/'\n",
    "\n",
    "# Identify the specific field/column for which you want to create a parquet file\n",
    "field = 'week'\n",
    "\n",
    "# Loop through the values in the specified column\n",
    "for value in df_pbp_2022[field].unique():\n",
    "    # Create a new dataframe that contains only the rows with the current value in the specified column\n",
    "    df_subset = df_pbp_2022[df_pbp_2022[field] == value]\n",
    "    \n",
    "    # Get the season from the data\n",
    "    season = df_subset['season'].iloc[0]\n",
    "    \n",
    "    # Save the data as a parquet file in the specified folder with the season appended to the file name\n",
    "    filename = f'{folder_path}{field}_{value}_{season}.parquet'\n",
    "    df_subset.to_parquet(filename)"
   ]
  }
 ],
 "metadata": {
  "kernelspec": {
   "display_name": "base2",
   "language": "python",
   "name": "python3"
  },
  "language_info": {
   "codemirror_mode": {
    "name": "ipython",
    "version": 3
   },
   "file_extension": ".py",
   "mimetype": "text/x-python",
   "name": "python",
   "nbconvert_exporter": "python",
   "pygments_lexer": "ipython3",
   "version": "3.8.16"
  }
 },
 "nbformat": 4,
 "nbformat_minor": 2
}
